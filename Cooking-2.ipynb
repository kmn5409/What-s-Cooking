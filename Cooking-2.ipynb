{
 "cells": [
  {
   "cell_type": "code",
   "execution_count": 18,
   "metadata": {
    "collapsed": true
   },
   "outputs": [],
   "source": [
    "import pandas as pd\n",
    "import numpy as np\n",
    "from sklearn.naive_bayes import MultinomialNB\n",
    "from sklearn.metrics import accuracy_score\n",
    "from sklearn.model_selection import train_test_split\n",
    "from time import time\n",
    "import matplotlib.pyplot as plt\n",
    "from sklearn import tree\n",
    "from sklearn.feature_extraction.text import CountVectorizer\n",
    "import json"
   ]
  },
  {
   "cell_type": "code",
   "execution_count": 10,
   "metadata": {},
   "outputs": [
    {
     "name": "stdout",
     "output_type": "stream",
     "text": [
      "<class 'dict'>\n",
      "{'id': 10259, 'cuisine': 'greek', 'ingredients': ['romaine lettuce', 'black olives', 'grape tomatoes', 'garlic', 'pepper', 'purple onion', 'seasoning', 'garbanzo beans', 'feta cheese crumbles']}\n",
      "['romaine lettuce', 'black olives', 'grape tomatoes', 'garlic', 'pepper', 'purple onion', 'seasoning', 'garbanzo beans', 'feta cheese crumbles']\n",
      "9\n",
      "65\n",
      "3885\n"
     ]
    }
   ],
   "source": [
    "with open(\"train.json\") as f:\n",
    "    datastore = json.loads(f.read())\n",
    "print(type(datastore[0]))\n",
    "print(datastore[0])\n",
    "print(datastore[0]['ingredients'])\n",
    "print(len(datastore[0]['ingredients']))\n",
    "length = len(datastore)\n",
    "max = 0\n",
    "pos = 0\n",
    "for x in range(length):\n",
    "    if(len(datastore[x]['ingredients']) > max):\n",
    "        max = len(datastore[x]['ingredients'])\n",
    "        pos = x\n",
    "print(max)\n",
    "print(datastore[pos]['id'])"
   ]
  },
  {
   "cell_type": "code",
   "execution_count": 29,
   "metadata": {},
   "outputs": [],
   "source": [
    "list1 = []\n",
    "for y in range(length):\n",
    "    list1.append(datastore[y]['cuisine'])\n",
    "array = np.asarray(list1)\n",
    "unique = np.unique(array)"
   ]
  },
  {
   "cell_type": "code",
   "execution_count": 30,
   "metadata": {},
   "outputs": [],
   "source": [
    "ingre = []\n",
    "for x in range(length):\n",
    "    if(datastore[x]['cuisine'] == unique[0]):\n",
    "        ingre.append(datastore[x]['ingredients'])"
   ]
  },
  {
   "cell_type": "code",
   "execution_count": 31,
   "metadata": {},
   "outputs": [
    {
     "name": "stdout",
     "output_type": "stream",
     "text": [
      "ice cubes\n"
     ]
    }
   ],
   "source": [
    "words = []\n",
    "for x in range(len(ingre)):\n",
    "    for y in ingre[x]:\n",
    "        words.append(y)\n",
    "print(words[0])"
   ]
  },
  {
   "cell_type": "code",
   "execution_count": 32,
   "metadata": {},
   "outputs": [],
   "source": [
    "vectorizer = CountVectorizer()\n",
    "transformed_data = vectorizer.fit_transform(words)"
   ]
  },
  {
   "cell_type": "code",
   "execution_count": 41,
   "metadata": {
    "scrolled": false
   },
   "outputs": [
    {
     "name": "stdout",
     "output_type": "stream",
     "text": [
      "('43', 1)\n"
     ]
    }
   ],
   "source": [
    "print(list(zip(vectorizer.get_feature_names(), \\\n",
    "               np.ravel(transformed_data.sum(axis=0))))[0])\n",
    "list2 = list(zip(vectorizer.get_feature_names(), \\\n",
    "               np.ravel(transformed_data.sum(axis=0))))"
   ]
  },
  {
   "cell_type": "code",
   "execution_count": 43,
   "metadata": {},
   "outputs": [
    {
     "name": "stdout",
     "output_type": "stream",
     "text": [
      "43 1\n"
     ]
    }
   ],
   "source": [
    "#computeTF\n",
    "tdDict = {}\n",
    "#bowCount = len()\n",
    "for word,count in list2:\n",
    "    print(word,count)\n",
    "    break"
   ]
  }
 ],
 "metadata": {
  "kernelspec": {
   "display_name": "Python 3",
   "language": "python",
   "name": "python3"
  },
  "language_info": {
   "codemirror_mode": {
    "name": "ipython",
    "version": 3
   },
   "file_extension": ".py",
   "mimetype": "text/x-python",
   "name": "python",
   "nbconvert_exporter": "python",
   "pygments_lexer": "ipython3",
   "version": "3.6.3"
  }
 },
 "nbformat": 4,
 "nbformat_minor": 2
}
