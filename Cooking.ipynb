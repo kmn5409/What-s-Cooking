{
 "cells": [
  {
   "cell_type": "code",
   "execution_count": 18,
   "metadata": {
    "collapsed": true
   },
   "outputs": [],
   "source": [
    "import pandas as pd\n",
    "import numpy as np\n",
    "from sklearn.naive_bayes import MultinomialNB\n",
    "from sklearn.metrics import accuracy_score\n",
    "from sklearn.model_selection import train_test_split\n",
    "from time import time\n",
    "import matplotlib.pyplot as plt\n",
    "from sklearn import tree\n",
    "import json"
   ]
  },
  {
   "cell_type": "code",
   "execution_count": 2,
   "metadata": {},
   "outputs": [
    {
     "name": "stdout",
     "output_type": "stream",
     "text": [
      "<class 'dict'>\n",
      "{'id': 10259, 'cuisine': 'greek', 'ingredients': ['romaine lettuce', 'black olives', 'grape tomatoes', 'garlic', 'pepper', 'purple onion', 'seasoning', 'garbanzo beans', 'feta cheese crumbles']}\n",
      "['romaine lettuce', 'black olives', 'grape tomatoes', 'garlic', 'pepper', 'purple onion', 'seasoning', 'garbanzo beans', 'feta cheese crumbles']\n",
      "9\n",
      "65\n",
      "3885\n"
     ]
    }
   ],
   "source": [
    "with open(\"train.json\") as f:\n",
    "    datastore = json.loads(f.read())\n",
    "print(type(datastore[0]))\n",
    "print(datastore[0])\n",
    "print(datastore[0]['ingredients'])\n",
    "print(len(datastore[0]['ingredients']))\n",
    "max = 0\n",
    "pos = 0\n",
    "for x in range(len(datastore)):\n",
    "    if(len(datastore[x]['ingredients']) > max):\n",
    "        max = len(datastore[x]['ingredients'])\n",
    "        pos = x\n",
    "print(max)\n",
    "print(datastore[pos]['id'])"
   ]
  },
  {
   "cell_type": "code",
   "execution_count": 3,
   "metadata": {},
   "outputs": [
    {
     "name": "stdout",
     "output_type": "stream",
     "text": [
      "<class 'list'>\n",
      "39774\n"
     ]
    }
   ],
   "source": [
    "print(type((datastore[0]['ingredients'])))\n",
    "print(len(datastore))\n",
    "list1 = []\n",
    "list2 = []\n",
    "for y in range(len(datastore)):\n",
    "    for x in datastore[y]['ingredients']:\n",
    "        list1.append(x)\n",
    "    list2.append(datastore[y]['cuisine'])\n",
    "    #list1.append(datastore[y]['ingredients'])"
   ]
  },
  {
   "cell_type": "code",
   "execution_count": 4,
   "metadata": {},
   "outputs": [
    {
     "name": "stdout",
     "output_type": "stream",
     "text": [
      "428275\n",
      "romaine lettuce\n",
      "39774\n",
      "greek\n"
     ]
    }
   ],
   "source": [
    "print(len(list1))\n",
    "print(list1[0])\n",
    "array = np.asarray(list1)\n",
    "print(len(list2))\n",
    "print(list2[0])\n",
    "array1 = np.asarray(list2)"
   ]
  },
  {
   "cell_type": "code",
   "execution_count": 5,
   "metadata": {},
   "outputs": [
    {
     "name": "stdout",
     "output_type": "stream",
     "text": [
      "['brazilian' 'british' 'cajun_creole' 'chinese' 'filipino' 'french'\n",
      " 'greek' 'indian' 'irish' 'italian' 'jamaican' 'japanese' 'korean'\n",
      " 'mexican' 'moroccan' 'russian' 'southern_us' 'spanish' 'thai'\n",
      " 'vietnamese']\n",
      "6714\n",
      "huh\n",
      "(10 oz.) frozen chopped spinach, thawed and squeezed dry\n",
      "brazilian\n",
      "6714\n",
      "20\n"
     ]
    }
   ],
   "source": [
    "unique = np.unique(array)\n",
    "unique1 = np.unique(array1)\n",
    "print(unique1)\n",
    "print(len(unique))\n",
    "y = 0\n",
    "dict1 = {}\n",
    "dict2 = {}\n",
    "print(\"huh\")\n",
    "print(unique[3])\n",
    "#might need to normal do some stemming and lower case\n",
    "print(unique1[0])\n",
    "for x in range(len(unique)):\n",
    "    dict1[unique[x]] = y\n",
    "    y+=1\n",
    "print(y)\n",
    "y = 0\n",
    "for x in range(len(unique1)):\n",
    "    dict2[unique1[x]] = y\n",
    "    y+=1\n",
    "print(y)"
   ]
  },
  {
   "cell_type": "code",
   "execution_count": 6,
   "metadata": {},
   "outputs": [
    {
     "name": "stdout",
     "output_type": "stream",
     "text": [
      "6714\n",
      "2233\n",
      "18\n",
      "{'brazilian': 0, 'british': 1, 'cajun_creole': 2, 'chinese': 3, 'filipino': 4, 'french': 5, 'greek': 6, 'indian': 7, 'irish': 8, 'italian': 9, 'jamaican': 10, 'japanese': 11, 'korean': 12, 'mexican': 13, 'moroccan': 14, 'russian': 15, 'southern_us': 16, 'spanish': 17, 'thai': 18, 'vietnamese': 19}\n",
      "2548\n"
     ]
    }
   ],
   "source": [
    "print(len(dict1))\n",
    "print(dict1['diced tomatoes'])\n",
    "print(dict2['thai'])\n",
    "print(dict2)\n",
    "print(dict1['feta cheese crumbles'])"
   ]
  },
  {
   "cell_type": "code",
   "execution_count": 7,
   "metadata": {},
   "outputs": [
    {
     "name": "stdout",
     "output_type": "stream",
     "text": [
      "0\n",
      "5000\n",
      "10000\n",
      "15000\n",
      "20000\n",
      "25000\n",
      "30000\n",
      "35000\n"
     ]
    }
   ],
   "source": [
    "columns1 = [\"id\", \"cuisine\"]\n",
    "df = pd.DataFrame(columns = columns1)\n",
    "for x in range(65):\n",
    "    df[x] = -1\n",
    "for y in range(len(datastore)):\n",
    "    col = 0\n",
    "    #if(y == 5000):\n",
    "    #    break\n",
    "    if(y%5000 == 0):\n",
    "       print(y)\n",
    "    columns1 = [\"id\", \"cuisine\"]\n",
    "    df1 = pd.DataFrame([[datastore[y]['id'],dict2[datastore[y][\"cuisine\"]]]],columns = columns1)\n",
    "    for x in datastore[y]['ingredients']:\n",
    "        df1[col] = dict1[x]\n",
    "        col+=1\n",
    "    #print(df)\n",
    "    while(col < 65):\n",
    "        df1[col] = 6714 \n",
    "        col+=1\n",
    "    #print(df1)\n",
    "    df = df.append(df1)\n",
    "    "
   ]
  },
  {
   "cell_type": "code",
   "execution_count": 8,
   "metadata": {},
   "outputs": [
    {
     "data": {
      "text/html": [
       "<div>\n",
       "<style scoped>\n",
       "    .dataframe tbody tr th:only-of-type {\n",
       "        vertical-align: middle;\n",
       "    }\n",
       "\n",
       "    .dataframe tbody tr th {\n",
       "        vertical-align: top;\n",
       "    }\n",
       "\n",
       "    .dataframe thead th {\n",
       "        text-align: right;\n",
       "    }\n",
       "</style>\n",
       "<table border=\"1\" class=\"dataframe\">\n",
       "  <thead>\n",
       "    <tr style=\"text-align: right;\">\n",
       "      <th></th>\n",
       "      <th>id</th>\n",
       "      <th>cuisine</th>\n",
       "      <th>0</th>\n",
       "      <th>1</th>\n",
       "      <th>2</th>\n",
       "      <th>3</th>\n",
       "      <th>4</th>\n",
       "      <th>5</th>\n",
       "      <th>6</th>\n",
       "      <th>7</th>\n",
       "      <th>...</th>\n",
       "      <th>55</th>\n",
       "      <th>56</th>\n",
       "      <th>57</th>\n",
       "      <th>58</th>\n",
       "      <th>59</th>\n",
       "      <th>60</th>\n",
       "      <th>61</th>\n",
       "      <th>62</th>\n",
       "      <th>63</th>\n",
       "      <th>64</th>\n",
       "    </tr>\n",
       "  </thead>\n",
       "  <tbody>\n",
       "    <tr>\n",
       "      <th>0</th>\n",
       "      <td>10259</td>\n",
       "      <td>6</td>\n",
       "      <td>5222</td>\n",
       "      <td>956</td>\n",
       "      <td>3033</td>\n",
       "      <td>2884</td>\n",
       "      <td>4569</td>\n",
       "      <td>4911</td>\n",
       "      <td>5405</td>\n",
       "      <td>2878</td>\n",
       "      <td>...</td>\n",
       "      <td>6714</td>\n",
       "      <td>6714</td>\n",
       "      <td>6714</td>\n",
       "      <td>6714</td>\n",
       "      <td>6714</td>\n",
       "      <td>6714</td>\n",
       "      <td>6714</td>\n",
       "      <td>6714</td>\n",
       "      <td>6714</td>\n",
       "      <td>6714</td>\n",
       "    </tr>\n",
       "    <tr>\n",
       "      <th>0</th>\n",
       "      <td>25693</td>\n",
       "      <td>16</td>\n",
       "      <td>4709</td>\n",
       "      <td>3166</td>\n",
       "      <td>5309</td>\n",
       "      <td>6146</td>\n",
       "      <td>3135</td>\n",
       "      <td>6090</td>\n",
       "      <td>2436</td>\n",
       "      <td>3117</td>\n",
       "      <td>...</td>\n",
       "      <td>6714</td>\n",
       "      <td>6714</td>\n",
       "      <td>6714</td>\n",
       "      <td>6714</td>\n",
       "      <td>6714</td>\n",
       "      <td>6714</td>\n",
       "      <td>6714</td>\n",
       "      <td>6714</td>\n",
       "      <td>6714</td>\n",
       "      <td>6714</td>\n",
       "    </tr>\n",
       "    <tr>\n",
       "      <th>0</th>\n",
       "      <td>20130</td>\n",
       "      <td>4</td>\n",
       "      <td>2436</td>\n",
       "      <td>4569</td>\n",
       "      <td>5309</td>\n",
       "      <td>4031</td>\n",
       "      <td>1940</td>\n",
       "      <td>3090</td>\n",
       "      <td>3124</td>\n",
       "      <td>2902</td>\n",
       "      <td>...</td>\n",
       "      <td>6714</td>\n",
       "      <td>6714</td>\n",
       "      <td>6714</td>\n",
       "      <td>6714</td>\n",
       "      <td>6714</td>\n",
       "      <td>6714</td>\n",
       "      <td>6714</td>\n",
       "      <td>6714</td>\n",
       "      <td>6714</td>\n",
       "      <td>6714</td>\n",
       "    </tr>\n",
       "    <tr>\n",
       "      <th>0</th>\n",
       "      <td>22213</td>\n",
       "      <td>7</td>\n",
       "      <td>6435</td>\n",
       "      <td>6375</td>\n",
       "      <td>6450</td>\n",
       "      <td>5309</td>\n",
       "      <td>6714</td>\n",
       "      <td>6714</td>\n",
       "      <td>6714</td>\n",
       "      <td>6714</td>\n",
       "      <td>...</td>\n",
       "      <td>6714</td>\n",
       "      <td>6714</td>\n",
       "      <td>6714</td>\n",
       "      <td>6714</td>\n",
       "      <td>6714</td>\n",
       "      <td>6714</td>\n",
       "      <td>6714</td>\n",
       "      <td>6714</td>\n",
       "      <td>6714</td>\n",
       "      <td>6714</td>\n",
       "    </tr>\n",
       "    <tr>\n",
       "      <th>0</th>\n",
       "      <td>13162</td>\n",
       "      <td>7</td>\n",
       "      <td>958</td>\n",
       "      <td>5451</td>\n",
       "      <td>1978</td>\n",
       "      <td>1415</td>\n",
       "      <td>4361</td>\n",
       "      <td>2899</td>\n",
       "      <td>4108</td>\n",
       "      <td>1220</td>\n",
       "      <td>...</td>\n",
       "      <td>6714</td>\n",
       "      <td>6714</td>\n",
       "      <td>6714</td>\n",
       "      <td>6714</td>\n",
       "      <td>6714</td>\n",
       "      <td>6714</td>\n",
       "      <td>6714</td>\n",
       "      <td>6714</td>\n",
       "      <td>6714</td>\n",
       "      <td>6714</td>\n",
       "    </tr>\n",
       "  </tbody>\n",
       "</table>\n",
       "<p>5 rows × 67 columns</p>\n",
       "</div>"
      ],
      "text/plain": [
       "      id cuisine     0     1     2     3     4     5     6     7  ...     55  \\\n",
       "0  10259       6  5222   956  3033  2884  4569  4911  5405  2878  ...   6714   \n",
       "0  25693      16  4709  3166  5309  6146  3135  6090  2436  3117  ...   6714   \n",
       "0  20130       4  2436  4569  5309  4031  1940  3090  3124  2902  ...   6714   \n",
       "0  22213       7  6435  6375  6450  5309  6714  6714  6714  6714  ...   6714   \n",
       "0  13162       7   958  5451  1978  1415  4361  2899  4108  1220  ...   6714   \n",
       "\n",
       "     56    57    58    59    60    61    62    63    64  \n",
       "0  6714  6714  6714  6714  6714  6714  6714  6714  6714  \n",
       "0  6714  6714  6714  6714  6714  6714  6714  6714  6714  \n",
       "0  6714  6714  6714  6714  6714  6714  6714  6714  6714  \n",
       "0  6714  6714  6714  6714  6714  6714  6714  6714  6714  \n",
       "0  6714  6714  6714  6714  6714  6714  6714  6714  6714  \n",
       "\n",
       "[5 rows x 67 columns]"
      ]
     },
     "execution_count": 8,
     "metadata": {},
     "output_type": "execute_result"
    }
   ],
   "source": [
    "df.head()\n",
    "#40 cols\n",
    "#last check 10000"
   ]
  },
  {
   "cell_type": "code",
   "execution_count": 9,
   "metadata": {
    "collapsed": true
   },
   "outputs": [],
   "source": [
    "file = \"values.csv\"\n",
    "df.to_csv(file, index=False)"
   ]
  },
  {
   "cell_type": "code",
   "execution_count": 10,
   "metadata": {
    "collapsed": true
   },
   "outputs": [],
   "source": [
    "df2 = df.copy()"
   ]
  },
  {
   "cell_type": "code",
   "execution_count": 11,
   "metadata": {},
   "outputs": [],
   "source": [
    "df2 = df2.sort_values(['cuisine'])\n",
    "labels_train = pd.Series(df2['cuisine'].values,\\\n",
    "                         index=df2['id'])\n",
    "labels_train = labels_train.rename(\"cuisine\")\n",
    "labels_train= labels_train.\\\n",
    "apply(pd.to_numeric, errors='coerce')\n",
    "df2 = df2.set_index('id')\n",
    "df2 = df2.drop(['cuisine'],axis=1)"
   ]
  },
  {
   "cell_type": "code",
   "execution_count": 12,
   "metadata": {
    "collapsed": true
   },
   "outputs": [],
   "source": [
    "features_train, features_test, labels_train, labels_test = \\\n",
    " train_test_split(df2, labels_train,\\\n",
    " test_size=0.2, random_state=42)"
   ]
  },
  {
   "cell_type": "code",
   "execution_count": 13,
   "metadata": {},
   "outputs": [],
   "source": [
    "nb_classifier = MultinomialNB()"
   ]
  },
  {
   "cell_type": "code",
   "execution_count": 14,
   "metadata": {},
   "outputs": [
    {
     "name": "stdout",
     "output_type": "stream",
     "text": [
      "Training Time: 0.05500602722167969s.\n"
     ]
    }
   ],
   "source": [
    "t0 = time()\n",
    "nb_classifier.fit(features_train, labels_train)\n",
    "print(\"Training Time: \", time()-t0, \"s.\", sep='')"
   ]
  },
  {
   "cell_type": "code",
   "execution_count": 15,
   "metadata": {},
   "outputs": [
    {
     "name": "stdout",
     "output_type": "stream",
     "text": [
      "Testing Time: 0.004797458648681641s.\n"
     ]
    }
   ],
   "source": [
    "t1 = time()\n",
    "nb_pred = nb_classifier.predict(features_test)\n",
    "print(\"Testing Time: \", time()-t1, \"s.\", sep='')"
   ]
  },
  {
   "cell_type": "code",
   "execution_count": 16,
   "metadata": {},
   "outputs": [
    {
     "name": "stdout",
     "output_type": "stream",
     "text": [
      "Accuracy: 0.06184789440603394.\n"
     ]
    }
   ],
   "source": [
    "print(\"Accuracy: \", accuracy_score(labels_test, nb_pred), \".\", sep='')"
   ]
  },
  {
   "cell_type": "code",
   "execution_count": 21,
   "metadata": {},
   "outputs": [],
   "source": [
    "dt_classifier  = tree.DecisionTreeClassifier(min_samples_split=40)"
   ]
  },
  {
   "cell_type": "code",
   "execution_count": 22,
   "metadata": {},
   "outputs": [
    {
     "name": "stdout",
     "output_type": "stream",
     "text": [
      "Training Time:  0 s\n"
     ]
    }
   ],
   "source": [
    "t0 = time()\n",
    "dt_classifier.fit(features_train, labels_train)\n",
    "print(\"Training Time: \", round(time() - t0), \"s\")"
   ]
  },
  {
   "cell_type": "code",
   "execution_count": 23,
   "metadata": {},
   "outputs": [
    {
     "name": "stdout",
     "output_type": "stream",
     "text": [
      "Prediction Time:  0 s\n"
     ]
    }
   ],
   "source": [
    "t1 = time()\n",
    "dt_prediction = dt_classifier.predict(features_test)\n",
    "print(\"Prediction Time: \", round(time() - t1), \"s\")"
   ]
  },
  {
   "cell_type": "code",
   "execution_count": 24,
   "metadata": {},
   "outputs": [
    {
     "name": "stdout",
     "output_type": "stream",
     "text": [
      "0.2595851665619108\n"
     ]
    }
   ],
   "source": [
    "print(accuracy_score(labels_test, dt_prediction))"
   ]
  }
 ],
 "metadata": {
  "kernelspec": {
   "display_name": "Python 3",
   "language": "python",
   "name": "python3"
  },
  "language_info": {
   "codemirror_mode": {
    "name": "ipython",
    "version": 3
   },
   "file_extension": ".py",
   "mimetype": "text/x-python",
   "name": "python",
   "nbconvert_exporter": "python",
   "pygments_lexer": "ipython3",
   "version": "3.6.3"
  }
 },
 "nbformat": 4,
 "nbformat_minor": 2
}
